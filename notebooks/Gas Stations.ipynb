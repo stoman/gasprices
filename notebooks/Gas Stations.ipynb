{
 "cells": [
  {
   "cell_type": "markdown",
   "metadata": {},
   "source": [
    "# Gas Prices"
   ]
  },
  {
   "cell_type": "code",
   "execution_count": 7,
   "metadata": {
    "collapsed": false
   },
   "outputs": [],
   "source": [
    "%matplotlib inline\n",
    "import seaborn as sns\n",
    "from datetime import datetime, timedelta, date\n",
    "import matplotlib as mpl\n",
    "import matplotlib.pyplot as plt\n",
    "import pandas as pd\n",
    "mpl.rcParams['savefig.dpi'] = 144\n",
    "mpl.rcParams['figure.figsize'] = (5, 5)\n",
    "\n",
    "from database import Database\n",
    "from plots import Plots"
   ]
  },
  {
   "cell_type": "markdown",
   "metadata": {},
   "source": [
    "## Connect to Database"
   ]
  },
  {
   "cell_type": "code",
   "execution_count": 2,
   "metadata": {
    "collapsed": false
   },
   "outputs": [
    {
     "name": "stderr",
     "output_type": "stream",
     "text": [
      "/opt/conda/lib/python2.7/site-packages/IPython/config.py:13: ShimWarning: The `IPython.config` package has been deprecated. You should import from traitlets.config instead.\n",
      "  \"You should import from traitlets.config instead.\", ShimWarning)\n",
      "/opt/conda/lib/python2.7/site-packages/IPython/utils/traitlets.py:5: UserWarning: IPython.utils.traitlets has moved to a top-level traitlets package.\n",
      "  warn(\"IPython.utils.traitlets has moved to a top-level traitlets package.\")\n"
     ]
    }
   ],
   "source": [
    "%load_ext sql"
   ]
  },
  {
   "cell_type": "code",
   "execution_count": 3,
   "metadata": {
    "collapsed": true
   },
   "outputs": [],
   "source": [
    "dbuser, dbpass, dbname, dbhost = \"gasprices\", \"gasprices\", \"gasprices\", \"localhost\""
   ]
  },
  {
   "cell_type": "code",
   "execution_count": 4,
   "metadata": {
    "collapsed": false
   },
   "outputs": [
    {
     "name": "stdout",
     "output_type": "stream",
     "text": [
      "1 rows affected.\n"
     ]
    },
    {
     "data": {
      "text/html": [
       "<table>\n",
       "    <tr>\n",
       "        <th>version</th>\n",
       "    </tr>\n",
       "    <tr>\n",
       "        <td>PostgreSQL 9.3.16 on x86_64-unknown-linux-gnu, compiled by gcc (Ubuntu 4.8.4-2ubuntu1~14.04.3) 4.8.4, 64-bit</td>\n",
       "    </tr>\n",
       "</table>"
      ],
      "text/plain": [
       "[(u'PostgreSQL 9.3.16 on x86_64-unknown-linux-gnu, compiled by gcc (Ubuntu 4.8.4-2ubuntu1~14.04.3) 4.8.4, 64-bit',)]"
      ]
     },
     "execution_count": 4,
     "metadata": {},
     "output_type": "execute_result"
    }
   ],
   "source": [
    "%%sql postgresql://$dbuser:$dbpass@$dbhost/$dbname\n",
    "SELECT version()"
   ]
  },
  {
   "cell_type": "markdown",
   "metadata": {},
   "source": [
    "## Load Data into Database"
   ]
  },
  {
   "cell_type": "code",
   "execution_count": 4,
   "metadata": {
    "collapsed": false
   },
   "outputs": [],
   "source": [
    "!mkdir -p data"
   ]
  },
  {
   "cell_type": "code",
   "execution_count": 5,
   "metadata": {
    "collapsed": false
   },
   "outputs": [],
   "source": [
    "!if [ ! -f data/history.dump.gz ]; then (cd data; curl https://creativecommons.tankerkoenig.de/history/history.dump.gz); fi"
   ]
  },
  {
   "cell_type": "code",
   "execution_count": 6,
   "metadata": {
    "collapsed": false
   },
   "outputs": [],
   "source": [
    "!if [ ! -f data/history.dump.1.gz ]; then (cd data; curl https://creativecommons.tankerkoenig.de/history/history.dump.1.gz); fi"
   ]
  },
  {
   "cell_type": "code",
   "execution_count": 58,
   "metadata": {
    "collapsed": false
   },
   "outputs": [],
   "source": [
    "!(cd data; for f in *.gz; do if [ ! -f ${f%.gz}.sql ]; then gunzip -c $f > ${f%.gz}.sql; fi; done)"
   ]
  },
  {
   "cell_type": "code",
   "execution_count": 79,
   "metadata": {
    "collapsed": false
   },
   "outputs": [
    {
     "name": "stdout",
     "output_type": "stream",
     "text": [
      "Done.\n",
      "Done.\n"
     ]
    },
    {
     "data": {
      "text/plain": [
       "[]"
      ]
     },
     "execution_count": 79,
     "metadata": {},
     "output_type": "execute_result"
    }
   ],
   "source": [
    "%sql DROP TABLE IF EXISTS gas_station\n",
    "%sql DROP TABLE IF EXISTS gas_station_information_history"
   ]
  },
  {
   "cell_type": "code",
   "execution_count": 80,
   "metadata": {
    "collapsed": false,
    "scrolled": true
   },
   "outputs": [
    {
     "name": "stdout",
     "output_type": "stream",
     "text": [
      "SET\n",
      "SET\n",
      "SET\n",
      "SET\n",
      "SET\n",
      "SET\n",
      "ERROR:  unrecognized configuration parameter \"row_security\"\n",
      "SET\n",
      "SET\n",
      "SET\n",
      "CREATE TABLE\n",
      "CREATE TABLE\n",
      "CREATE SEQUENCE\n",
      "ALTER SEQUENCE\n",
      "ALTER TABLE\n",
      "  setval  \n",
      "----------\n",
      " 38796173\n",
      "(1 row)\n",
      "\n",
      "ALTER TABLE\n",
      "CREATE INDEX\n",
      "CREATE INDEX\n",
      "CREATE INDEX\n",
      "CREATE INDEX\n",
      "CREATE INDEX\n",
      "CREATE INDEX\n"
     ]
    }
   ],
   "source": [
    "#import all files: !export PGPASSWORD={dbpass}; for f in data/*.sql; do psql -U {dbuser} -d {dbname} -h {dbhost} < $$f; done\n",
    "!export PGPASSWORD={dbpass}; psql -U {dbuser} -d {dbname} -h {dbhost} < data/history.dump.sql; done"
   ]
  },
  {
   "cell_type": "markdown",
   "metadata": {},
   "source": [
    "## Check Import"
   ]
  },
  {
   "cell_type": "code",
   "execution_count": 6,
   "metadata": {
    "collapsed": false,
    "scrolled": false
   },
   "outputs": [
    {
     "name": "stdout",
     "output_type": "stream",
     "text": [
      "2 rows affected.\n"
     ]
    },
    {
     "data": {
      "text/html": [
       "<table>\n",
       "    <tr>\n",
       "        <th>table_catalog</th>\n",
       "        <th>table_schema</th>\n",
       "        <th>table_name</th>\n",
       "        <th>table_type</th>\n",
       "        <th>self_referencing_column_name</th>\n",
       "        <th>reference_generation</th>\n",
       "        <th>user_defined_type_catalog</th>\n",
       "        <th>user_defined_type_schema</th>\n",
       "        <th>user_defined_type_name</th>\n",
       "        <th>is_insertable_into</th>\n",
       "        <th>is_typed</th>\n",
       "        <th>commit_action</th>\n",
       "    </tr>\n",
       "    <tr>\n",
       "        <td>gasprices</td>\n",
       "        <td>public</td>\n",
       "        <td>gas_station</td>\n",
       "        <td>BASE TABLE</td>\n",
       "        <td>None</td>\n",
       "        <td>None</td>\n",
       "        <td>None</td>\n",
       "        <td>None</td>\n",
       "        <td>None</td>\n",
       "        <td>YES</td>\n",
       "        <td>NO</td>\n",
       "        <td>None</td>\n",
       "    </tr>\n",
       "    <tr>\n",
       "        <td>gasprices</td>\n",
       "        <td>public</td>\n",
       "        <td>gas_station_information_history</td>\n",
       "        <td>BASE TABLE</td>\n",
       "        <td>None</td>\n",
       "        <td>None</td>\n",
       "        <td>None</td>\n",
       "        <td>None</td>\n",
       "        <td>None</td>\n",
       "        <td>YES</td>\n",
       "        <td>NO</td>\n",
       "        <td>None</td>\n",
       "    </tr>\n",
       "</table>"
      ],
      "text/plain": [
       "[(u'gasprices', u'public', u'gas_station', u'BASE TABLE', None, None, None, None, None, u'YES', u'NO', None),\n",
       " (u'gasprices', u'public', u'gas_station_information_history', u'BASE TABLE', None, None, None, None, None, u'YES', u'NO', None)]"
      ]
     },
     "execution_count": 6,
     "metadata": {},
     "output_type": "execute_result"
    }
   ],
   "source": [
    "%sql SELECT * FROM information_schema.tables WHERE table_type = 'BASE TABLE' AND table_schema = 'public';"
   ]
  },
  {
   "cell_type": "code",
   "execution_count": 7,
   "metadata": {
    "collapsed": false
   },
   "outputs": [
    {
     "name": "stdout",
     "output_type": "stream",
     "text": [
      "1 rows affected.\n"
     ]
    },
    {
     "data": {
      "text/html": [
       "<table>\n",
       "    <tr>\n",
       "        <th>count</th>\n",
       "    </tr>\n",
       "    <tr>\n",
       "        <td>14814</td>\n",
       "    </tr>\n",
       "</table>"
      ],
      "text/plain": [
       "[(14814L,)]"
      ]
     },
     "execution_count": 7,
     "metadata": {},
     "output_type": "execute_result"
    }
   ],
   "source": [
    "%sql SELECT COUNT(*) FROM gas_station;"
   ]
  },
  {
   "cell_type": "code",
   "execution_count": 8,
   "metadata": {
    "collapsed": false
   },
   "outputs": [
    {
     "name": "stdout",
     "output_type": "stream",
     "text": [
      "15 rows affected.\n"
     ]
    },
    {
     "data": {
      "text/html": [
       "<table>\n",
       "    <tr>\n",
       "        <th>table_catalog</th>\n",
       "        <th>table_schema</th>\n",
       "        <th>table_name</th>\n",
       "        <th>column_name</th>\n",
       "        <th>ordinal_position</th>\n",
       "        <th>column_default</th>\n",
       "        <th>is_nullable</th>\n",
       "        <th>data_type</th>\n",
       "        <th>character_maximum_length</th>\n",
       "        <th>character_octet_length</th>\n",
       "        <th>numeric_precision</th>\n",
       "        <th>numeric_precision_radix</th>\n",
       "        <th>numeric_scale</th>\n",
       "        <th>datetime_precision</th>\n",
       "        <th>interval_type</th>\n",
       "        <th>interval_precision</th>\n",
       "        <th>character_set_catalog</th>\n",
       "        <th>character_set_schema</th>\n",
       "        <th>character_set_name</th>\n",
       "        <th>collation_catalog</th>\n",
       "        <th>collation_schema</th>\n",
       "        <th>collation_name</th>\n",
       "        <th>domain_catalog</th>\n",
       "        <th>domain_schema</th>\n",
       "        <th>domain_name</th>\n",
       "        <th>udt_catalog</th>\n",
       "        <th>udt_schema</th>\n",
       "        <th>udt_name</th>\n",
       "        <th>scope_catalog</th>\n",
       "        <th>scope_schema</th>\n",
       "        <th>scope_name</th>\n",
       "        <th>maximum_cardinality</th>\n",
       "        <th>dtd_identifier</th>\n",
       "        <th>is_self_referencing</th>\n",
       "        <th>is_identity</th>\n",
       "        <th>identity_generation</th>\n",
       "        <th>identity_start</th>\n",
       "        <th>identity_increment</th>\n",
       "        <th>identity_maximum</th>\n",
       "        <th>identity_minimum</th>\n",
       "        <th>identity_cycle</th>\n",
       "        <th>is_generated</th>\n",
       "        <th>generation_expression</th>\n",
       "        <th>is_updatable</th>\n",
       "    </tr>\n",
       "    <tr>\n",
       "        <td>gasprices</td>\n",
       "        <td>public</td>\n",
       "        <td>gas_station</td>\n",
       "        <td>id</td>\n",
       "        <td>1</td>\n",
       "        <td>None</td>\n",
       "        <td>NO</td>\n",
       "        <td>uuid</td>\n",
       "        <td>None</td>\n",
       "        <td>None</td>\n",
       "        <td>None</td>\n",
       "        <td>None</td>\n",
       "        <td>None</td>\n",
       "        <td>None</td>\n",
       "        <td>None</td>\n",
       "        <td>None</td>\n",
       "        <td>None</td>\n",
       "        <td>None</td>\n",
       "        <td>None</td>\n",
       "        <td>None</td>\n",
       "        <td>None</td>\n",
       "        <td>None</td>\n",
       "        <td>None</td>\n",
       "        <td>None</td>\n",
       "        <td>None</td>\n",
       "        <td>gasprices</td>\n",
       "        <td>pg_catalog</td>\n",
       "        <td>uuid</td>\n",
       "        <td>None</td>\n",
       "        <td>None</td>\n",
       "        <td>None</td>\n",
       "        <td>None</td>\n",
       "        <td>1</td>\n",
       "        <td>NO</td>\n",
       "        <td>NO</td>\n",
       "        <td>None</td>\n",
       "        <td>None</td>\n",
       "        <td>None</td>\n",
       "        <td>None</td>\n",
       "        <td>None</td>\n",
       "        <td>None</td>\n",
       "        <td>NEVER</td>\n",
       "        <td>None</td>\n",
       "        <td>YES</td>\n",
       "    </tr>\n",
       "    <tr>\n",
       "        <td>gasprices</td>\n",
       "        <td>public</td>\n",
       "        <td>gas_station</td>\n",
       "        <td>version</td>\n",
       "        <td>2</td>\n",
       "        <td>None</td>\n",
       "        <td>NO</td>\n",
       "        <td>character varying</td>\n",
       "        <td>10</td>\n",
       "        <td>40</td>\n",
       "        <td>None</td>\n",
       "        <td>None</td>\n",
       "        <td>None</td>\n",
       "        <td>None</td>\n",
       "        <td>None</td>\n",
       "        <td>None</td>\n",
       "        <td>None</td>\n",
       "        <td>None</td>\n",
       "        <td>None</td>\n",
       "        <td>None</td>\n",
       "        <td>None</td>\n",
       "        <td>None</td>\n",
       "        <td>None</td>\n",
       "        <td>None</td>\n",
       "        <td>None</td>\n",
       "        <td>gasprices</td>\n",
       "        <td>pg_catalog</td>\n",
       "        <td>varchar</td>\n",
       "        <td>None</td>\n",
       "        <td>None</td>\n",
       "        <td>None</td>\n",
       "        <td>None</td>\n",
       "        <td>2</td>\n",
       "        <td>NO</td>\n",
       "        <td>NO</td>\n",
       "        <td>None</td>\n",
       "        <td>None</td>\n",
       "        <td>None</td>\n",
       "        <td>None</td>\n",
       "        <td>None</td>\n",
       "        <td>None</td>\n",
       "        <td>NEVER</td>\n",
       "        <td>None</td>\n",
       "        <td>YES</td>\n",
       "    </tr>\n",
       "    <tr>\n",
       "        <td>gasprices</td>\n",
       "        <td>public</td>\n",
       "        <td>gas_station</td>\n",
       "        <td>version_time</td>\n",
       "        <td>3</td>\n",
       "        <td>None</td>\n",
       "        <td>NO</td>\n",
       "        <td>timestamp without time zone</td>\n",
       "        <td>None</td>\n",
       "        <td>None</td>\n",
       "        <td>None</td>\n",
       "        <td>None</td>\n",
       "        <td>None</td>\n",
       "        <td>6</td>\n",
       "        <td>None</td>\n",
       "        <td>None</td>\n",
       "        <td>None</td>\n",
       "        <td>None</td>\n",
       "        <td>None</td>\n",
       "        <td>None</td>\n",
       "        <td>None</td>\n",
       "        <td>None</td>\n",
       "        <td>None</td>\n",
       "        <td>None</td>\n",
       "        <td>None</td>\n",
       "        <td>gasprices</td>\n",
       "        <td>pg_catalog</td>\n",
       "        <td>timestamp</td>\n",
       "        <td>None</td>\n",
       "        <td>None</td>\n",
       "        <td>None</td>\n",
       "        <td>None</td>\n",
       "        <td>3</td>\n",
       "        <td>NO</td>\n",
       "        <td>NO</td>\n",
       "        <td>None</td>\n",
       "        <td>None</td>\n",
       "        <td>None</td>\n",
       "        <td>None</td>\n",
       "        <td>None</td>\n",
       "        <td>None</td>\n",
       "        <td>NEVER</td>\n",
       "        <td>None</td>\n",
       "        <td>YES</td>\n",
       "    </tr>\n",
       "    <tr>\n",
       "        <td>gasprices</td>\n",
       "        <td>public</td>\n",
       "        <td>gas_station</td>\n",
       "        <td>name</td>\n",
       "        <td>4</td>\n",
       "        <td>None</td>\n",
       "        <td>NO</td>\n",
       "        <td>text</td>\n",
       "        <td>None</td>\n",
       "        <td>1073741824</td>\n",
       "        <td>None</td>\n",
       "        <td>None</td>\n",
       "        <td>None</td>\n",
       "        <td>None</td>\n",
       "        <td>None</td>\n",
       "        <td>None</td>\n",
       "        <td>None</td>\n",
       "        <td>None</td>\n",
       "        <td>None</td>\n",
       "        <td>None</td>\n",
       "        <td>None</td>\n",
       "        <td>None</td>\n",
       "        <td>None</td>\n",
       "        <td>None</td>\n",
       "        <td>None</td>\n",
       "        <td>gasprices</td>\n",
       "        <td>pg_catalog</td>\n",
       "        <td>text</td>\n",
       "        <td>None</td>\n",
       "        <td>None</td>\n",
       "        <td>None</td>\n",
       "        <td>None</td>\n",
       "        <td>4</td>\n",
       "        <td>NO</td>\n",
       "        <td>NO</td>\n",
       "        <td>None</td>\n",
       "        <td>None</td>\n",
       "        <td>None</td>\n",
       "        <td>None</td>\n",
       "        <td>None</td>\n",
       "        <td>None</td>\n",
       "        <td>NEVER</td>\n",
       "        <td>None</td>\n",
       "        <td>YES</td>\n",
       "    </tr>\n",
       "    <tr>\n",
       "        <td>gasprices</td>\n",
       "        <td>public</td>\n",
       "        <td>gas_station</td>\n",
       "        <td>brand</td>\n",
       "        <td>5</td>\n",
       "        <td>None</td>\n",
       "        <td>YES</td>\n",
       "        <td>text</td>\n",
       "        <td>None</td>\n",
       "        <td>1073741824</td>\n",
       "        <td>None</td>\n",
       "        <td>None</td>\n",
       "        <td>None</td>\n",
       "        <td>None</td>\n",
       "        <td>None</td>\n",
       "        <td>None</td>\n",
       "        <td>None</td>\n",
       "        <td>None</td>\n",
       "        <td>None</td>\n",
       "        <td>None</td>\n",
       "        <td>None</td>\n",
       "        <td>None</td>\n",
       "        <td>None</td>\n",
       "        <td>None</td>\n",
       "        <td>None</td>\n",
       "        <td>gasprices</td>\n",
       "        <td>pg_catalog</td>\n",
       "        <td>text</td>\n",
       "        <td>None</td>\n",
       "        <td>None</td>\n",
       "        <td>None</td>\n",
       "        <td>None</td>\n",
       "        <td>5</td>\n",
       "        <td>NO</td>\n",
       "        <td>NO</td>\n",
       "        <td>None</td>\n",
       "        <td>None</td>\n",
       "        <td>None</td>\n",
       "        <td>None</td>\n",
       "        <td>None</td>\n",
       "        <td>None</td>\n",
       "        <td>NEVER</td>\n",
       "        <td>None</td>\n",
       "        <td>YES</td>\n",
       "    </tr>\n",
       "    <tr>\n",
       "        <td>gasprices</td>\n",
       "        <td>public</td>\n",
       "        <td>gas_station</td>\n",
       "        <td>street</td>\n",
       "        <td>6</td>\n",
       "        <td>None</td>\n",
       "        <td>YES</td>\n",
       "        <td>text</td>\n",
       "        <td>None</td>\n",
       "        <td>1073741824</td>\n",
       "        <td>None</td>\n",
       "        <td>None</td>\n",
       "        <td>None</td>\n",
       "        <td>None</td>\n",
       "        <td>None</td>\n",
       "        <td>None</td>\n",
       "        <td>None</td>\n",
       "        <td>None</td>\n",
       "        <td>None</td>\n",
       "        <td>None</td>\n",
       "        <td>None</td>\n",
       "        <td>None</td>\n",
       "        <td>None</td>\n",
       "        <td>None</td>\n",
       "        <td>None</td>\n",
       "        <td>gasprices</td>\n",
       "        <td>pg_catalog</td>\n",
       "        <td>text</td>\n",
       "        <td>None</td>\n",
       "        <td>None</td>\n",
       "        <td>None</td>\n",
       "        <td>None</td>\n",
       "        <td>6</td>\n",
       "        <td>NO</td>\n",
       "        <td>NO</td>\n",
       "        <td>None</td>\n",
       "        <td>None</td>\n",
       "        <td>None</td>\n",
       "        <td>None</td>\n",
       "        <td>None</td>\n",
       "        <td>None</td>\n",
       "        <td>NEVER</td>\n",
       "        <td>None</td>\n",
       "        <td>YES</td>\n",
       "    </tr>\n",
       "    <tr>\n",
       "        <td>gasprices</td>\n",
       "        <td>public</td>\n",
       "        <td>gas_station</td>\n",
       "        <td>house_number</td>\n",
       "        <td>7</td>\n",
       "        <td>None</td>\n",
       "        <td>YES</td>\n",
       "        <td>text</td>\n",
       "        <td>None</td>\n",
       "        <td>1073741824</td>\n",
       "        <td>None</td>\n",
       "        <td>None</td>\n",
       "        <td>None</td>\n",
       "        <td>None</td>\n",
       "        <td>None</td>\n",
       "        <td>None</td>\n",
       "        <td>None</td>\n",
       "        <td>None</td>\n",
       "        <td>None</td>\n",
       "        <td>None</td>\n",
       "        <td>None</td>\n",
       "        <td>None</td>\n",
       "        <td>None</td>\n",
       "        <td>None</td>\n",
       "        <td>None</td>\n",
       "        <td>gasprices</td>\n",
       "        <td>pg_catalog</td>\n",
       "        <td>text</td>\n",
       "        <td>None</td>\n",
       "        <td>None</td>\n",
       "        <td>None</td>\n",
       "        <td>None</td>\n",
       "        <td>7</td>\n",
       "        <td>NO</td>\n",
       "        <td>NO</td>\n",
       "        <td>None</td>\n",
       "        <td>None</td>\n",
       "        <td>None</td>\n",
       "        <td>None</td>\n",
       "        <td>None</td>\n",
       "        <td>None</td>\n",
       "        <td>NEVER</td>\n",
       "        <td>None</td>\n",
       "        <td>YES</td>\n",
       "    </tr>\n",
       "    <tr>\n",
       "        <td>gasprices</td>\n",
       "        <td>public</td>\n",
       "        <td>gas_station</td>\n",
       "        <td>post_code</td>\n",
       "        <td>8</td>\n",
       "        <td>None</td>\n",
       "        <td>YES</td>\n",
       "        <td>text</td>\n",
       "        <td>None</td>\n",
       "        <td>1073741824</td>\n",
       "        <td>None</td>\n",
       "        <td>None</td>\n",
       "        <td>None</td>\n",
       "        <td>None</td>\n",
       "        <td>None</td>\n",
       "        <td>None</td>\n",
       "        <td>None</td>\n",
       "        <td>None</td>\n",
       "        <td>None</td>\n",
       "        <td>None</td>\n",
       "        <td>None</td>\n",
       "        <td>None</td>\n",
       "        <td>None</td>\n",
       "        <td>None</td>\n",
       "        <td>None</td>\n",
       "        <td>gasprices</td>\n",
       "        <td>pg_catalog</td>\n",
       "        <td>text</td>\n",
       "        <td>None</td>\n",
       "        <td>None</td>\n",
       "        <td>None</td>\n",
       "        <td>None</td>\n",
       "        <td>8</td>\n",
       "        <td>NO</td>\n",
       "        <td>NO</td>\n",
       "        <td>None</td>\n",
       "        <td>None</td>\n",
       "        <td>None</td>\n",
       "        <td>None</td>\n",
       "        <td>None</td>\n",
       "        <td>None</td>\n",
       "        <td>NEVER</td>\n",
       "        <td>None</td>\n",
       "        <td>YES</td>\n",
       "    </tr>\n",
       "    <tr>\n",
       "        <td>gasprices</td>\n",
       "        <td>public</td>\n",
       "        <td>gas_station</td>\n",
       "        <td>place</td>\n",
       "        <td>9</td>\n",
       "        <td>None</td>\n",
       "        <td>YES</td>\n",
       "        <td>text</td>\n",
       "        <td>None</td>\n",
       "        <td>1073741824</td>\n",
       "        <td>None</td>\n",
       "        <td>None</td>\n",
       "        <td>None</td>\n",
       "        <td>None</td>\n",
       "        <td>None</td>\n",
       "        <td>None</td>\n",
       "        <td>None</td>\n",
       "        <td>None</td>\n",
       "        <td>None</td>\n",
       "        <td>None</td>\n",
       "        <td>None</td>\n",
       "        <td>None</td>\n",
       "        <td>None</td>\n",
       "        <td>None</td>\n",
       "        <td>None</td>\n",
       "        <td>gasprices</td>\n",
       "        <td>pg_catalog</td>\n",
       "        <td>text</td>\n",
       "        <td>None</td>\n",
       "        <td>None</td>\n",
       "        <td>None</td>\n",
       "        <td>None</td>\n",
       "        <td>9</td>\n",
       "        <td>NO</td>\n",
       "        <td>NO</td>\n",
       "        <td>None</td>\n",
       "        <td>None</td>\n",
       "        <td>None</td>\n",
       "        <td>None</td>\n",
       "        <td>None</td>\n",
       "        <td>None</td>\n",
       "        <td>NEVER</td>\n",
       "        <td>None</td>\n",
       "        <td>YES</td>\n",
       "    </tr>\n",
       "    <tr>\n",
       "        <td>gasprices</td>\n",
       "        <td>public</td>\n",
       "        <td>gas_station</td>\n",
       "        <td>public_holiday_identifier</td>\n",
       "        <td>10</td>\n",
       "        <td>None</td>\n",
       "        <td>YES</td>\n",
       "        <td>text</td>\n",
       "        <td>None</td>\n",
       "        <td>1073741824</td>\n",
       "        <td>None</td>\n",
       "        <td>None</td>\n",
       "        <td>None</td>\n",
       "        <td>None</td>\n",
       "        <td>None</td>\n",
       "        <td>None</td>\n",
       "        <td>None</td>\n",
       "        <td>None</td>\n",
       "        <td>None</td>\n",
       "        <td>None</td>\n",
       "        <td>None</td>\n",
       "        <td>None</td>\n",
       "        <td>None</td>\n",
       "        <td>None</td>\n",
       "        <td>None</td>\n",
       "        <td>gasprices</td>\n",
       "        <td>pg_catalog</td>\n",
       "        <td>text</td>\n",
       "        <td>None</td>\n",
       "        <td>None</td>\n",
       "        <td>None</td>\n",
       "        <td>None</td>\n",
       "        <td>10</td>\n",
       "        <td>NO</td>\n",
       "        <td>NO</td>\n",
       "        <td>None</td>\n",
       "        <td>None</td>\n",
       "        <td>None</td>\n",
       "        <td>None</td>\n",
       "        <td>None</td>\n",
       "        <td>None</td>\n",
       "        <td>NEVER</td>\n",
       "        <td>None</td>\n",
       "        <td>YES</td>\n",
       "    </tr>\n",
       "    <tr>\n",
       "        <td>gasprices</td>\n",
       "        <td>public</td>\n",
       "        <td>gas_station</td>\n",
       "        <td>lat</td>\n",
       "        <td>11</td>\n",
       "        <td>None</td>\n",
       "        <td>NO</td>\n",
       "        <td>double precision</td>\n",
       "        <td>None</td>\n",
       "        <td>None</td>\n",
       "        <td>53</td>\n",
       "        <td>2</td>\n",
       "        <td>None</td>\n",
       "        <td>None</td>\n",
       "        <td>None</td>\n",
       "        <td>None</td>\n",
       "        <td>None</td>\n",
       "        <td>None</td>\n",
       "        <td>None</td>\n",
       "        <td>None</td>\n",
       "        <td>None</td>\n",
       "        <td>None</td>\n",
       "        <td>None</td>\n",
       "        <td>None</td>\n",
       "        <td>None</td>\n",
       "        <td>gasprices</td>\n",
       "        <td>pg_catalog</td>\n",
       "        <td>float8</td>\n",
       "        <td>None</td>\n",
       "        <td>None</td>\n",
       "        <td>None</td>\n",
       "        <td>None</td>\n",
       "        <td>11</td>\n",
       "        <td>NO</td>\n",
       "        <td>NO</td>\n",
       "        <td>None</td>\n",
       "        <td>None</td>\n",
       "        <td>None</td>\n",
       "        <td>None</td>\n",
       "        <td>None</td>\n",
       "        <td>None</td>\n",
       "        <td>NEVER</td>\n",
       "        <td>None</td>\n",
       "        <td>YES</td>\n",
       "    </tr>\n",
       "    <tr>\n",
       "        <td>gasprices</td>\n",
       "        <td>public</td>\n",
       "        <td>gas_station</td>\n",
       "        <td>lng</td>\n",
       "        <td>12</td>\n",
       "        <td>None</td>\n",
       "        <td>NO</td>\n",
       "        <td>double precision</td>\n",
       "        <td>None</td>\n",
       "        <td>None</td>\n",
       "        <td>53</td>\n",
       "        <td>2</td>\n",
       "        <td>None</td>\n",
       "        <td>None</td>\n",
       "        <td>None</td>\n",
       "        <td>None</td>\n",
       "        <td>None</td>\n",
       "        <td>None</td>\n",
       "        <td>None</td>\n",
       "        <td>None</td>\n",
       "        <td>None</td>\n",
       "        <td>None</td>\n",
       "        <td>None</td>\n",
       "        <td>None</td>\n",
       "        <td>None</td>\n",
       "        <td>gasprices</td>\n",
       "        <td>pg_catalog</td>\n",
       "        <td>float8</td>\n",
       "        <td>None</td>\n",
       "        <td>None</td>\n",
       "        <td>None</td>\n",
       "        <td>None</td>\n",
       "        <td>12</td>\n",
       "        <td>NO</td>\n",
       "        <td>NO</td>\n",
       "        <td>None</td>\n",
       "        <td>None</td>\n",
       "        <td>None</td>\n",
       "        <td>None</td>\n",
       "        <td>None</td>\n",
       "        <td>None</td>\n",
       "        <td>NEVER</td>\n",
       "        <td>None</td>\n",
       "        <td>YES</td>\n",
       "    </tr>\n",
       "    <tr>\n",
       "        <td>gasprices</td>\n",
       "        <td>public</td>\n",
       "        <td>gas_station</td>\n",
       "        <td>updated</td>\n",
       "        <td>13</td>\n",
       "        <td>now()</td>\n",
       "        <td>NO</td>\n",
       "        <td>timestamp with time zone</td>\n",
       "        <td>None</td>\n",
       "        <td>None</td>\n",
       "        <td>None</td>\n",
       "        <td>None</td>\n",
       "        <td>None</td>\n",
       "        <td>0</td>\n",
       "        <td>None</td>\n",
       "        <td>None</td>\n",
       "        <td>None</td>\n",
       "        <td>None</td>\n",
       "        <td>None</td>\n",
       "        <td>None</td>\n",
       "        <td>None</td>\n",
       "        <td>None</td>\n",
       "        <td>None</td>\n",
       "        <td>None</td>\n",
       "        <td>None</td>\n",
       "        <td>gasprices</td>\n",
       "        <td>pg_catalog</td>\n",
       "        <td>timestamptz</td>\n",
       "        <td>None</td>\n",
       "        <td>None</td>\n",
       "        <td>None</td>\n",
       "        <td>None</td>\n",
       "        <td>13</td>\n",
       "        <td>NO</td>\n",
       "        <td>NO</td>\n",
       "        <td>None</td>\n",
       "        <td>None</td>\n",
       "        <td>None</td>\n",
       "        <td>None</td>\n",
       "        <td>None</td>\n",
       "        <td>None</td>\n",
       "        <td>NEVER</td>\n",
       "        <td>None</td>\n",
       "        <td>YES</td>\n",
       "    </tr>\n",
       "    <tr>\n",
       "        <td>gasprices</td>\n",
       "        <td>public</td>\n",
       "        <td>gas_station</td>\n",
       "        <td>updated2</td>\n",
       "        <td>14</td>\n",
       "        <td>None</td>\n",
       "        <td>YES</td>\n",
       "        <td>timestamp with time zone</td>\n",
       "        <td>None</td>\n",
       "        <td>None</td>\n",
       "        <td>None</td>\n",
       "        <td>None</td>\n",
       "        <td>None</td>\n",
       "        <td>0</td>\n",
       "        <td>None</td>\n",
       "        <td>None</td>\n",
       "        <td>None</td>\n",
       "        <td>None</td>\n",
       "        <td>None</td>\n",
       "        <td>None</td>\n",
       "        <td>None</td>\n",
       "        <td>None</td>\n",
       "        <td>None</td>\n",
       "        <td>None</td>\n",
       "        <td>None</td>\n",
       "        <td>gasprices</td>\n",
       "        <td>pg_catalog</td>\n",
       "        <td>timestamptz</td>\n",
       "        <td>None</td>\n",
       "        <td>None</td>\n",
       "        <td>None</td>\n",
       "        <td>None</td>\n",
       "        <td>14</td>\n",
       "        <td>NO</td>\n",
       "        <td>NO</td>\n",
       "        <td>None</td>\n",
       "        <td>None</td>\n",
       "        <td>None</td>\n",
       "        <td>None</td>\n",
       "        <td>None</td>\n",
       "        <td>None</td>\n",
       "        <td>NEVER</td>\n",
       "        <td>None</td>\n",
       "        <td>YES</td>\n",
       "    </tr>\n",
       "    <tr>\n",
       "        <td>gasprices</td>\n",
       "        <td>public</td>\n",
       "        <td>gas_station</td>\n",
       "        <td>open_ts</td>\n",
       "        <td>15</td>\n",
       "        <td>1</td>\n",
       "        <td>NO</td>\n",
       "        <td>integer</td>\n",
       "        <td>None</td>\n",
       "        <td>None</td>\n",
       "        <td>32</td>\n",
       "        <td>2</td>\n",
       "        <td>0</td>\n",
       "        <td>None</td>\n",
       "        <td>None</td>\n",
       "        <td>None</td>\n",
       "        <td>None</td>\n",
       "        <td>None</td>\n",
       "        <td>None</td>\n",
       "        <td>None</td>\n",
       "        <td>None</td>\n",
       "        <td>None</td>\n",
       "        <td>None</td>\n",
       "        <td>None</td>\n",
       "        <td>None</td>\n",
       "        <td>gasprices</td>\n",
       "        <td>pg_catalog</td>\n",
       "        <td>int4</td>\n",
       "        <td>None</td>\n",
       "        <td>None</td>\n",
       "        <td>None</td>\n",
       "        <td>None</td>\n",
       "        <td>15</td>\n",
       "        <td>NO</td>\n",
       "        <td>NO</td>\n",
       "        <td>None</td>\n",
       "        <td>None</td>\n",
       "        <td>None</td>\n",
       "        <td>None</td>\n",
       "        <td>None</td>\n",
       "        <td>None</td>\n",
       "        <td>NEVER</td>\n",
       "        <td>None</td>\n",
       "        <td>YES</td>\n",
       "    </tr>\n",
       "</table>"
      ],
      "text/plain": [
       "[(u'gasprices', u'public', u'gas_station', u'id', 1, None, u'NO', u'uuid', None, None, None, None, None, None, None, None, None, None, None, None, None, None, None, None, None, u'gasprices', u'pg_catalog', u'uuid', None, None, None, None, u'1', u'NO', u'NO', None, None, None, None, None, None, u'NEVER', None, u'YES'),\n",
       " (u'gasprices', u'public', u'gas_station', u'version', 2, None, u'NO', u'character varying', 10, 40, None, None, None, None, None, None, None, None, None, None, None, None, None, None, None, u'gasprices', u'pg_catalog', u'varchar', None, None, None, None, u'2', u'NO', u'NO', None, None, None, None, None, None, u'NEVER', None, u'YES'),\n",
       " (u'gasprices', u'public', u'gas_station', u'version_time', 3, None, u'NO', u'timestamp without time zone', None, None, None, None, None, 6, None, None, None, None, None, None, None, None, None, None, None, u'gasprices', u'pg_catalog', u'timestamp', None, None, None, None, u'3', u'NO', u'NO', None, None, None, None, None, None, u'NEVER', None, u'YES'),\n",
       " (u'gasprices', u'public', u'gas_station', u'name', 4, None, u'NO', u'text', None, 1073741824, None, None, None, None, None, None, None, None, None, None, None, None, None, None, None, u'gasprices', u'pg_catalog', u'text', None, None, None, None, u'4', u'NO', u'NO', None, None, None, None, None, None, u'NEVER', None, u'YES'),\n",
       " (u'gasprices', u'public', u'gas_station', u'brand', 5, None, u'YES', u'text', None, 1073741824, None, None, None, None, None, None, None, None, None, None, None, None, None, None, None, u'gasprices', u'pg_catalog', u'text', None, None, None, None, u'5', u'NO', u'NO', None, None, None, None, None, None, u'NEVER', None, u'YES'),\n",
       " (u'gasprices', u'public', u'gas_station', u'street', 6, None, u'YES', u'text', None, 1073741824, None, None, None, None, None, None, None, None, None, None, None, None, None, None, None, u'gasprices', u'pg_catalog', u'text', None, None, None, None, u'6', u'NO', u'NO', None, None, None, None, None, None, u'NEVER', None, u'YES'),\n",
       " (u'gasprices', u'public', u'gas_station', u'house_number', 7, None, u'YES', u'text', None, 1073741824, None, None, None, None, None, None, None, None, None, None, None, None, None, None, None, u'gasprices', u'pg_catalog', u'text', None, None, None, None, u'7', u'NO', u'NO', None, None, None, None, None, None, u'NEVER', None, u'YES'),\n",
       " (u'gasprices', u'public', u'gas_station', u'post_code', 8, None, u'YES', u'text', None, 1073741824, None, None, None, None, None, None, None, None, None, None, None, None, None, None, None, u'gasprices', u'pg_catalog', u'text', None, None, None, None, u'8', u'NO', u'NO', None, None, None, None, None, None, u'NEVER', None, u'YES'),\n",
       " (u'gasprices', u'public', u'gas_station', u'place', 9, None, u'YES', u'text', None, 1073741824, None, None, None, None, None, None, None, None, None, None, None, None, None, None, None, u'gasprices', u'pg_catalog', u'text', None, None, None, None, u'9', u'NO', u'NO', None, None, None, None, None, None, u'NEVER', None, u'YES'),\n",
       " (u'gasprices', u'public', u'gas_station', u'public_holiday_identifier', 10, None, u'YES', u'text', None, 1073741824, None, None, None, None, None, None, None, None, None, None, None, None, None, None, None, u'gasprices', u'pg_catalog', u'text', None, None, None, None, u'10', u'NO', u'NO', None, None, None, None, None, None, u'NEVER', None, u'YES'),\n",
       " (u'gasprices', u'public', u'gas_station', u'lat', 11, None, u'NO', u'double precision', None, None, 53, 2, None, None, None, None, None, None, None, None, None, None, None, None, None, u'gasprices', u'pg_catalog', u'float8', None, None, None, None, u'11', u'NO', u'NO', None, None, None, None, None, None, u'NEVER', None, u'YES'),\n",
       " (u'gasprices', u'public', u'gas_station', u'lng', 12, None, u'NO', u'double precision', None, None, 53, 2, None, None, None, None, None, None, None, None, None, None, None, None, None, u'gasprices', u'pg_catalog', u'float8', None, None, None, None, u'12', u'NO', u'NO', None, None, None, None, None, None, u'NEVER', None, u'YES'),\n",
       " (u'gasprices', u'public', u'gas_station', u'updated', 13, u'now()', u'NO', u'timestamp with time zone', None, None, None, None, None, 0, None, None, None, None, None, None, None, None, None, None, None, u'gasprices', u'pg_catalog', u'timestamptz', None, None, None, None, u'13', u'NO', u'NO', None, None, None, None, None, None, u'NEVER', None, u'YES'),\n",
       " (u'gasprices', u'public', u'gas_station', u'updated2', 14, None, u'YES', u'timestamp with time zone', None, None, None, None, None, 0, None, None, None, None, None, None, None, None, None, None, None, u'gasprices', u'pg_catalog', u'timestamptz', None, None, None, None, u'14', u'NO', u'NO', None, None, None, None, None, None, u'NEVER', None, u'YES'),\n",
       " (u'gasprices', u'public', u'gas_station', u'open_ts', 15, u'1', u'NO', u'integer', None, None, 32, 2, 0, None, None, None, None, None, None, None, None, None, None, None, None, u'gasprices', u'pg_catalog', u'int4', None, None, None, None, u'15', u'NO', u'NO', None, None, None, None, None, None, u'NEVER', None, u'YES')]"
      ]
     },
     "execution_count": 8,
     "metadata": {},
     "output_type": "execute_result"
    }
   ],
   "source": [
    "%sql SELECT * FROM information_schema.columns WHERE table_name = 'gas_station'"
   ]
  },
  {
   "cell_type": "code",
   "execution_count": 9,
   "metadata": {
    "collapsed": false
   },
   "outputs": [
    {
     "name": "stdout",
     "output_type": "stream",
     "text": [
      "1 rows affected.\n"
     ]
    },
    {
     "data": {
      "text/html": [
       "<table>\n",
       "    <tr>\n",
       "        <th>count</th>\n",
       "    </tr>\n",
       "    <tr>\n",
       "        <td>38813736</td>\n",
       "    </tr>\n",
       "</table>"
      ],
      "text/plain": [
       "[(38813736L,)]"
      ]
     },
     "execution_count": 9,
     "metadata": {},
     "output_type": "execute_result"
    }
   ],
   "source": [
    "%sql SELECT COUNT(*) FROM gas_station_information_history;"
   ]
  },
  {
   "cell_type": "code",
   "execution_count": 10,
   "metadata": {
    "collapsed": false
   },
   "outputs": [
    {
     "name": "stdout",
     "output_type": "stream",
     "text": [
      "7 rows affected.\n"
     ]
    },
    {
     "data": {
      "text/html": [
       "<table>\n",
       "    <tr>\n",
       "        <th>table_catalog</th>\n",
       "        <th>table_schema</th>\n",
       "        <th>table_name</th>\n",
       "        <th>column_name</th>\n",
       "        <th>ordinal_position</th>\n",
       "        <th>column_default</th>\n",
       "        <th>is_nullable</th>\n",
       "        <th>data_type</th>\n",
       "        <th>character_maximum_length</th>\n",
       "        <th>character_octet_length</th>\n",
       "        <th>numeric_precision</th>\n",
       "        <th>numeric_precision_radix</th>\n",
       "        <th>numeric_scale</th>\n",
       "        <th>datetime_precision</th>\n",
       "        <th>interval_type</th>\n",
       "        <th>interval_precision</th>\n",
       "        <th>character_set_catalog</th>\n",
       "        <th>character_set_schema</th>\n",
       "        <th>character_set_name</th>\n",
       "        <th>collation_catalog</th>\n",
       "        <th>collation_schema</th>\n",
       "        <th>collation_name</th>\n",
       "        <th>domain_catalog</th>\n",
       "        <th>domain_schema</th>\n",
       "        <th>domain_name</th>\n",
       "        <th>udt_catalog</th>\n",
       "        <th>udt_schema</th>\n",
       "        <th>udt_name</th>\n",
       "        <th>scope_catalog</th>\n",
       "        <th>scope_schema</th>\n",
       "        <th>scope_name</th>\n",
       "        <th>maximum_cardinality</th>\n",
       "        <th>dtd_identifier</th>\n",
       "        <th>is_self_referencing</th>\n",
       "        <th>is_identity</th>\n",
       "        <th>identity_generation</th>\n",
       "        <th>identity_start</th>\n",
       "        <th>identity_increment</th>\n",
       "        <th>identity_maximum</th>\n",
       "        <th>identity_minimum</th>\n",
       "        <th>identity_cycle</th>\n",
       "        <th>is_generated</th>\n",
       "        <th>generation_expression</th>\n",
       "        <th>is_updatable</th>\n",
       "    </tr>\n",
       "    <tr>\n",
       "        <td>gasprices</td>\n",
       "        <td>public</td>\n",
       "        <td>gas_station_information_history</td>\n",
       "        <td>id</td>\n",
       "        <td>1</td>\n",
       "        <td>nextval('gas_station_information_history_id_seq'::regclass)</td>\n",
       "        <td>NO</td>\n",
       "        <td>integer</td>\n",
       "        <td>None</td>\n",
       "        <td>None</td>\n",
       "        <td>32</td>\n",
       "        <td>2</td>\n",
       "        <td>0</td>\n",
       "        <td>None</td>\n",
       "        <td>None</td>\n",
       "        <td>None</td>\n",
       "        <td>None</td>\n",
       "        <td>None</td>\n",
       "        <td>None</td>\n",
       "        <td>None</td>\n",
       "        <td>None</td>\n",
       "        <td>None</td>\n",
       "        <td>None</td>\n",
       "        <td>None</td>\n",
       "        <td>None</td>\n",
       "        <td>gasprices</td>\n",
       "        <td>pg_catalog</td>\n",
       "        <td>int4</td>\n",
       "        <td>None</td>\n",
       "        <td>None</td>\n",
       "        <td>None</td>\n",
       "        <td>None</td>\n",
       "        <td>1</td>\n",
       "        <td>NO</td>\n",
       "        <td>NO</td>\n",
       "        <td>None</td>\n",
       "        <td>None</td>\n",
       "        <td>None</td>\n",
       "        <td>None</td>\n",
       "        <td>None</td>\n",
       "        <td>None</td>\n",
       "        <td>NEVER</td>\n",
       "        <td>None</td>\n",
       "        <td>YES</td>\n",
       "    </tr>\n",
       "    <tr>\n",
       "        <td>gasprices</td>\n",
       "        <td>public</td>\n",
       "        <td>gas_station_information_history</td>\n",
       "        <td>stid</td>\n",
       "        <td>2</td>\n",
       "        <td>None</td>\n",
       "        <td>NO</td>\n",
       "        <td>uuid</td>\n",
       "        <td>None</td>\n",
       "        <td>None</td>\n",
       "        <td>None</td>\n",
       "        <td>None</td>\n",
       "        <td>None</td>\n",
       "        <td>None</td>\n",
       "        <td>None</td>\n",
       "        <td>None</td>\n",
       "        <td>None</td>\n",
       "        <td>None</td>\n",
       "        <td>None</td>\n",
       "        <td>None</td>\n",
       "        <td>None</td>\n",
       "        <td>None</td>\n",
       "        <td>None</td>\n",
       "        <td>None</td>\n",
       "        <td>None</td>\n",
       "        <td>gasprices</td>\n",
       "        <td>pg_catalog</td>\n",
       "        <td>uuid</td>\n",
       "        <td>None</td>\n",
       "        <td>None</td>\n",
       "        <td>None</td>\n",
       "        <td>None</td>\n",
       "        <td>2</td>\n",
       "        <td>NO</td>\n",
       "        <td>NO</td>\n",
       "        <td>None</td>\n",
       "        <td>None</td>\n",
       "        <td>None</td>\n",
       "        <td>None</td>\n",
       "        <td>None</td>\n",
       "        <td>None</td>\n",
       "        <td>NEVER</td>\n",
       "        <td>None</td>\n",
       "        <td>YES</td>\n",
       "    </tr>\n",
       "    <tr>\n",
       "        <td>gasprices</td>\n",
       "        <td>public</td>\n",
       "        <td>gas_station_information_history</td>\n",
       "        <td>e5</td>\n",
       "        <td>3</td>\n",
       "        <td>None</td>\n",
       "        <td>YES</td>\n",
       "        <td>smallint</td>\n",
       "        <td>None</td>\n",
       "        <td>None</td>\n",
       "        <td>16</td>\n",
       "        <td>2</td>\n",
       "        <td>0</td>\n",
       "        <td>None</td>\n",
       "        <td>None</td>\n",
       "        <td>None</td>\n",
       "        <td>None</td>\n",
       "        <td>None</td>\n",
       "        <td>None</td>\n",
       "        <td>None</td>\n",
       "        <td>None</td>\n",
       "        <td>None</td>\n",
       "        <td>None</td>\n",
       "        <td>None</td>\n",
       "        <td>None</td>\n",
       "        <td>gasprices</td>\n",
       "        <td>pg_catalog</td>\n",
       "        <td>int2</td>\n",
       "        <td>None</td>\n",
       "        <td>None</td>\n",
       "        <td>None</td>\n",
       "        <td>None</td>\n",
       "        <td>3</td>\n",
       "        <td>NO</td>\n",
       "        <td>NO</td>\n",
       "        <td>None</td>\n",
       "        <td>None</td>\n",
       "        <td>None</td>\n",
       "        <td>None</td>\n",
       "        <td>None</td>\n",
       "        <td>None</td>\n",
       "        <td>NEVER</td>\n",
       "        <td>None</td>\n",
       "        <td>YES</td>\n",
       "    </tr>\n",
       "    <tr>\n",
       "        <td>gasprices</td>\n",
       "        <td>public</td>\n",
       "        <td>gas_station_information_history</td>\n",
       "        <td>e10</td>\n",
       "        <td>4</td>\n",
       "        <td>None</td>\n",
       "        <td>YES</td>\n",
       "        <td>smallint</td>\n",
       "        <td>None</td>\n",
       "        <td>None</td>\n",
       "        <td>16</td>\n",
       "        <td>2</td>\n",
       "        <td>0</td>\n",
       "        <td>None</td>\n",
       "        <td>None</td>\n",
       "        <td>None</td>\n",
       "        <td>None</td>\n",
       "        <td>None</td>\n",
       "        <td>None</td>\n",
       "        <td>None</td>\n",
       "        <td>None</td>\n",
       "        <td>None</td>\n",
       "        <td>None</td>\n",
       "        <td>None</td>\n",
       "        <td>None</td>\n",
       "        <td>gasprices</td>\n",
       "        <td>pg_catalog</td>\n",
       "        <td>int2</td>\n",
       "        <td>None</td>\n",
       "        <td>None</td>\n",
       "        <td>None</td>\n",
       "        <td>None</td>\n",
       "        <td>4</td>\n",
       "        <td>NO</td>\n",
       "        <td>NO</td>\n",
       "        <td>None</td>\n",
       "        <td>None</td>\n",
       "        <td>None</td>\n",
       "        <td>None</td>\n",
       "        <td>None</td>\n",
       "        <td>None</td>\n",
       "        <td>NEVER</td>\n",
       "        <td>None</td>\n",
       "        <td>YES</td>\n",
       "    </tr>\n",
       "    <tr>\n",
       "        <td>gasprices</td>\n",
       "        <td>public</td>\n",
       "        <td>gas_station_information_history</td>\n",
       "        <td>diesel</td>\n",
       "        <td>5</td>\n",
       "        <td>None</td>\n",
       "        <td>YES</td>\n",
       "        <td>smallint</td>\n",
       "        <td>None</td>\n",
       "        <td>None</td>\n",
       "        <td>16</td>\n",
       "        <td>2</td>\n",
       "        <td>0</td>\n",
       "        <td>None</td>\n",
       "        <td>None</td>\n",
       "        <td>None</td>\n",
       "        <td>None</td>\n",
       "        <td>None</td>\n",
       "        <td>None</td>\n",
       "        <td>None</td>\n",
       "        <td>None</td>\n",
       "        <td>None</td>\n",
       "        <td>None</td>\n",
       "        <td>None</td>\n",
       "        <td>None</td>\n",
       "        <td>gasprices</td>\n",
       "        <td>pg_catalog</td>\n",
       "        <td>int2</td>\n",
       "        <td>None</td>\n",
       "        <td>None</td>\n",
       "        <td>None</td>\n",
       "        <td>None</td>\n",
       "        <td>5</td>\n",
       "        <td>NO</td>\n",
       "        <td>NO</td>\n",
       "        <td>None</td>\n",
       "        <td>None</td>\n",
       "        <td>None</td>\n",
       "        <td>None</td>\n",
       "        <td>None</td>\n",
       "        <td>None</td>\n",
       "        <td>NEVER</td>\n",
       "        <td>None</td>\n",
       "        <td>YES</td>\n",
       "    </tr>\n",
       "    <tr>\n",
       "        <td>gasprices</td>\n",
       "        <td>public</td>\n",
       "        <td>gas_station_information_history</td>\n",
       "        <td>date</td>\n",
       "        <td>6</td>\n",
       "        <td>None</td>\n",
       "        <td>NO</td>\n",
       "        <td>timestamp with time zone</td>\n",
       "        <td>None</td>\n",
       "        <td>None</td>\n",
       "        <td>None</td>\n",
       "        <td>None</td>\n",
       "        <td>None</td>\n",
       "        <td>0</td>\n",
       "        <td>None</td>\n",
       "        <td>None</td>\n",
       "        <td>None</td>\n",
       "        <td>None</td>\n",
       "        <td>None</td>\n",
       "        <td>None</td>\n",
       "        <td>None</td>\n",
       "        <td>None</td>\n",
       "        <td>None</td>\n",
       "        <td>None</td>\n",
       "        <td>None</td>\n",
       "        <td>gasprices</td>\n",
       "        <td>pg_catalog</td>\n",
       "        <td>timestamptz</td>\n",
       "        <td>None</td>\n",
       "        <td>None</td>\n",
       "        <td>None</td>\n",
       "        <td>None</td>\n",
       "        <td>6</td>\n",
       "        <td>NO</td>\n",
       "        <td>NO</td>\n",
       "        <td>None</td>\n",
       "        <td>None</td>\n",
       "        <td>None</td>\n",
       "        <td>None</td>\n",
       "        <td>None</td>\n",
       "        <td>None</td>\n",
       "        <td>NEVER</td>\n",
       "        <td>None</td>\n",
       "        <td>YES</td>\n",
       "    </tr>\n",
       "    <tr>\n",
       "        <td>gasprices</td>\n",
       "        <td>public</td>\n",
       "        <td>gas_station_information_history</td>\n",
       "        <td>changed</td>\n",
       "        <td>7</td>\n",
       "        <td>None</td>\n",
       "        <td>YES</td>\n",
       "        <td>smallint</td>\n",
       "        <td>None</td>\n",
       "        <td>None</td>\n",
       "        <td>16</td>\n",
       "        <td>2</td>\n",
       "        <td>0</td>\n",
       "        <td>None</td>\n",
       "        <td>None</td>\n",
       "        <td>None</td>\n",
       "        <td>None</td>\n",
       "        <td>None</td>\n",
       "        <td>None</td>\n",
       "        <td>None</td>\n",
       "        <td>None</td>\n",
       "        <td>None</td>\n",
       "        <td>None</td>\n",
       "        <td>None</td>\n",
       "        <td>None</td>\n",
       "        <td>gasprices</td>\n",
       "        <td>pg_catalog</td>\n",
       "        <td>int2</td>\n",
       "        <td>None</td>\n",
       "        <td>None</td>\n",
       "        <td>None</td>\n",
       "        <td>None</td>\n",
       "        <td>7</td>\n",
       "        <td>NO</td>\n",
       "        <td>NO</td>\n",
       "        <td>None</td>\n",
       "        <td>None</td>\n",
       "        <td>None</td>\n",
       "        <td>None</td>\n",
       "        <td>None</td>\n",
       "        <td>None</td>\n",
       "        <td>NEVER</td>\n",
       "        <td>None</td>\n",
       "        <td>YES</td>\n",
       "    </tr>\n",
       "</table>"
      ],
      "text/plain": [
       "[(u'gasprices', u'public', u'gas_station_information_history', u'id', 1, u\"nextval('gas_station_information_history_id_seq'::regclass)\", u'NO', u'integer', None, None, 32, 2, 0, None, None, None, None, None, None, None, None, None, None, None, None, u'gasprices', u'pg_catalog', u'int4', None, None, None, None, u'1', u'NO', u'NO', None, None, None, None, None, None, u'NEVER', None, u'YES'),\n",
       " (u'gasprices', u'public', u'gas_station_information_history', u'stid', 2, None, u'NO', u'uuid', None, None, None, None, None, None, None, None, None, None, None, None, None, None, None, None, None, u'gasprices', u'pg_catalog', u'uuid', None, None, None, None, u'2', u'NO', u'NO', None, None, None, None, None, None, u'NEVER', None, u'YES'),\n",
       " (u'gasprices', u'public', u'gas_station_information_history', u'e5', 3, None, u'YES', u'smallint', None, None, 16, 2, 0, None, None, None, None, None, None, None, None, None, None, None, None, u'gasprices', u'pg_catalog', u'int2', None, None, None, None, u'3', u'NO', u'NO', None, None, None, None, None, None, u'NEVER', None, u'YES'),\n",
       " (u'gasprices', u'public', u'gas_station_information_history', u'e10', 4, None, u'YES', u'smallint', None, None, 16, 2, 0, None, None, None, None, None, None, None, None, None, None, None, None, u'gasprices', u'pg_catalog', u'int2', None, None, None, None, u'4', u'NO', u'NO', None, None, None, None, None, None, u'NEVER', None, u'YES'),\n",
       " (u'gasprices', u'public', u'gas_station_information_history', u'diesel', 5, None, u'YES', u'smallint', None, None, 16, 2, 0, None, None, None, None, None, None, None, None, None, None, None, None, u'gasprices', u'pg_catalog', u'int2', None, None, None, None, u'5', u'NO', u'NO', None, None, None, None, None, None, u'NEVER', None, u'YES'),\n",
       " (u'gasprices', u'public', u'gas_station_information_history', u'date', 6, None, u'NO', u'timestamp with time zone', None, None, None, None, None, 0, None, None, None, None, None, None, None, None, None, None, None, u'gasprices', u'pg_catalog', u'timestamptz', None, None, None, None, u'6', u'NO', u'NO', None, None, None, None, None, None, u'NEVER', None, u'YES'),\n",
       " (u'gasprices', u'public', u'gas_station_information_history', u'changed', 7, None, u'YES', u'smallint', None, None, 16, 2, 0, None, None, None, None, None, None, None, None, None, None, None, None, u'gasprices', u'pg_catalog', u'int2', None, None, None, None, u'7', u'NO', u'NO', None, None, None, None, None, None, u'NEVER', None, u'YES')]"
      ]
     },
     "execution_count": 10,
     "metadata": {},
     "output_type": "execute_result"
    }
   ],
   "source": [
    "%sql SELECT * FROM information_schema.columns WHERE table_name = 'gas_station_information_history'"
   ]
  },
  {
   "cell_type": "markdown",
   "metadata": {},
   "source": [
    "## First Check of Data"
   ]
  },
  {
   "cell_type": "code",
   "execution_count": 33,
   "metadata": {
    "collapsed": false
   },
   "outputs": [
    {
     "name": "stdout",
     "output_type": "stream",
     "text": [
      "14814 rows affected.\n"
     ]
    }
   ],
   "source": [
    "gasstations_result = %sql SELECT * FROM gas_station"
   ]
  },
  {
   "cell_type": "code",
   "execution_count": 34,
   "metadata": {
    "collapsed": true
   },
   "outputs": [],
   "source": [
    "gasstations = gasstations_result.DataFrame()"
   ]
  },
  {
   "cell_type": "code",
   "execution_count": 35,
   "metadata": {
    "collapsed": false
   },
   "outputs": [
    {
     "data": {
      "text/html": [
       "<div>\n",
       "<table border=\"1\" class=\"dataframe\">\n",
       "  <thead>\n",
       "    <tr style=\"text-align: right;\">\n",
       "      <th></th>\n",
       "      <th>id</th>\n",
       "      <th>version</th>\n",
       "      <th>version_time</th>\n",
       "      <th>name</th>\n",
       "      <th>brand</th>\n",
       "      <th>street</th>\n",
       "      <th>house_number</th>\n",
       "      <th>post_code</th>\n",
       "      <th>place</th>\n",
       "      <th>public_holiday_identifier</th>\n",
       "      <th>lat</th>\n",
       "      <th>lng</th>\n",
       "      <th>updated</th>\n",
       "      <th>updated2</th>\n",
       "      <th>open_ts</th>\n",
       "    </tr>\n",
       "  </thead>\n",
       "  <tbody>\n",
       "    <tr>\n",
       "      <th>0</th>\n",
       "      <td>005056ba-7cb6-1ed2-bceb-c6e8560e6d53</td>\n",
       "      <td>1075</td>\n",
       "      <td>2017-03-06 22:50:12.499</td>\n",
       "      <td>star Tankstelle</td>\n",
       "      <td>STAR</td>\n",
       "      <td>Gewerbering</td>\n",
       "      <td>1</td>\n",
       "      <td>1609</td>\n",
       "      <td>Gröditz</td>\n",
       "      <td>None</td>\n",
       "      <td>51.404960</td>\n",
       "      <td>13.436570</td>\n",
       "      <td>2017-03-07 02:16:31+00:00</td>\n",
       "      <td>2017-03-06 22:03:31+00:00</td>\n",
       "      <td>1</td>\n",
       "    </tr>\n",
       "    <tr>\n",
       "      <th>1</th>\n",
       "      <td>00569e4a-3ee2-4bd9-b5be-b71876e4efa8</td>\n",
       "      <td>29</td>\n",
       "      <td>2017-03-06 14:05:04.373</td>\n",
       "      <td>AVIA KESLAR</td>\n",
       "      <td>AVIA</td>\n",
       "      <td>Hauptstraße</td>\n",
       "      <td>25</td>\n",
       "      <td>87637</td>\n",
       "      <td>Seeg</td>\n",
       "      <td>None</td>\n",
       "      <td>47.654210</td>\n",
       "      <td>10.608781</td>\n",
       "      <td>2017-03-07 02:16:31+00:00</td>\n",
       "      <td>2017-03-06 22:31:31+00:00</td>\n",
       "      <td>1</td>\n",
       "    </tr>\n",
       "    <tr>\n",
       "      <th>2</th>\n",
       "      <td>03f7cec3-9b56-48f6-9ca1-e7f6dd395e15</td>\n",
       "      <td>1</td>\n",
       "      <td>2015-04-01 13:23:05.000</td>\n",
       "      <td>TOTAL WALDESCH</td>\n",
       "      <td>TOTAL</td>\n",
       "      <td>RHENSER STR.</td>\n",
       "      <td>4</td>\n",
       "      <td>56323</td>\n",
       "      <td>WALDESCH</td>\n",
       "      <td>None</td>\n",
       "      <td>50.279064</td>\n",
       "      <td>7.548622</td>\n",
       "      <td>2017-03-07 02:16:31+00:00</td>\n",
       "      <td>2017-03-06 20:57:31+00:00</td>\n",
       "      <td>1</td>\n",
       "    </tr>\n",
       "    <tr>\n",
       "      <th>3</th>\n",
       "      <td>06abdb4c-f337-499a-84aa-35000483acc0</td>\n",
       "      <td>22</td>\n",
       "      <td>2017-03-06 12:00:04.000</td>\n",
       "      <td>Esso Tankstelle</td>\n",
       "      <td>ESSO</td>\n",
       "      <td>HAUPTSTR. 79</td>\n",
       "      <td></td>\n",
       "      <td>56459</td>\n",
       "      <td>KOELBINGEN</td>\n",
       "      <td>None</td>\n",
       "      <td>50.548390</td>\n",
       "      <td>7.921952</td>\n",
       "      <td>2017-03-07 02:16:31+00:00</td>\n",
       "      <td>2017-03-06 22:10:31+00:00</td>\n",
       "      <td>-1488862800</td>\n",
       "    </tr>\n",
       "    <tr>\n",
       "      <th>4</th>\n",
       "      <td>0b3bfbe1-ff59-4329-8917-db92e0489b2c</td>\n",
       "      <td>4</td>\n",
       "      <td>2016-03-28 19:24:37.000</td>\n",
       "      <td>Aral Tankstelle</td>\n",
       "      <td>ARAL</td>\n",
       "      <td>Im Wingert</td>\n",
       "      <td>20</td>\n",
       "      <td>53115</td>\n",
       "      <td>Bonn</td>\n",
       "      <td>None</td>\n",
       "      <td>50.718098</td>\n",
       "      <td>7.091064</td>\n",
       "      <td>2017-03-07 02:16:31+00:00</td>\n",
       "      <td>2017-03-06 21:01:31+00:00</td>\n",
       "      <td>-1488862800</td>\n",
       "    </tr>\n",
       "  </tbody>\n",
       "</table>\n",
       "</div>"
      ],
      "text/plain": [
       "                                     id version            version_time  \\\n",
       "0  005056ba-7cb6-1ed2-bceb-c6e8560e6d53    1075 2017-03-06 22:50:12.499   \n",
       "1  00569e4a-3ee2-4bd9-b5be-b71876e4efa8      29 2017-03-06 14:05:04.373   \n",
       "2  03f7cec3-9b56-48f6-9ca1-e7f6dd395e15       1 2015-04-01 13:23:05.000   \n",
       "3  06abdb4c-f337-499a-84aa-35000483acc0      22 2017-03-06 12:00:04.000   \n",
       "4  0b3bfbe1-ff59-4329-8917-db92e0489b2c       4 2016-03-28 19:24:37.000   \n",
       "\n",
       "              name  brand        street house_number post_code       place  \\\n",
       "0  star Tankstelle   STAR   Gewerbering            1      1609     Gröditz   \n",
       "1      AVIA KESLAR   AVIA   Hauptstraße           25     87637        Seeg   \n",
       "2   TOTAL WALDESCH  TOTAL  RHENSER STR.            4     56323    WALDESCH   \n",
       "3  Esso Tankstelle   ESSO  HAUPTSTR. 79                  56459  KOELBINGEN   \n",
       "4  Aral Tankstelle   ARAL    Im Wingert           20     53115        Bonn   \n",
       "\n",
       "  public_holiday_identifier        lat        lng                   updated  \\\n",
       "0                      None  51.404960  13.436570 2017-03-07 02:16:31+00:00   \n",
       "1                      None  47.654210  10.608781 2017-03-07 02:16:31+00:00   \n",
       "2                      None  50.279064   7.548622 2017-03-07 02:16:31+00:00   \n",
       "3                      None  50.548390   7.921952 2017-03-07 02:16:31+00:00   \n",
       "4                      None  50.718098   7.091064 2017-03-07 02:16:31+00:00   \n",
       "\n",
       "                   updated2     open_ts  \n",
       "0 2017-03-06 22:03:31+00:00           1  \n",
       "1 2017-03-06 22:31:31+00:00           1  \n",
       "2 2017-03-06 20:57:31+00:00           1  \n",
       "3 2017-03-06 22:10:31+00:00 -1488862800  \n",
       "4 2017-03-06 21:01:31+00:00 -1488862800  "
      ]
     },
     "execution_count": 35,
     "metadata": {},
     "output_type": "execute_result"
    }
   ],
   "source": [
    "gasstations.head()"
   ]
  },
  {
   "cell_type": "code",
   "execution_count": 14,
   "metadata": {
    "collapsed": false
   },
   "outputs": [
    {
     "data": {
      "text/plain": [
       "5839678800"
      ]
     },
     "execution_count": 14,
     "metadata": {},
     "output_type": "execute_result"
    }
   ],
   "source": [
    "3 * len(gasstations) * 15 * 24 * 365 # potential data points per year"
   ]
  },
  {
   "cell_type": "code",
   "execution_count": 15,
   "metadata": {
    "collapsed": false
   },
   "outputs": [
    {
     "name": "stdout",
     "output_type": "stream",
     "text": [
      "1 rows affected.\n"
     ]
    },
    {
     "data": {
      "text/plain": [
       "8.397664371540435"
      ]
     },
     "execution_count": 15,
     "metadata": {},
     "output_type": "execute_result"
    }
   ],
   "source": [
    "count = %sql SELECT COUNT(*) FROM gas_station_information_history\n",
    "1.0 * count[0][0] / (datetime.now() - datetime(2016, 5, 2)).days / len(gasstations) # average price changes per day"
   ]
  },
  {
   "cell_type": "code",
   "execution_count": 16,
   "metadata": {
    "collapsed": false
   },
   "outputs": [
    {
     "name": "stdout",
     "output_type": "stream",
     "text": [
      "2278 rows affected.\n"
     ]
    }
   ],
   "source": [
    "firstuuid = gasstations[:1][\"id\"].max()\n",
    "firsthistoryresult = %sql SELECT * FROM gas_station_information_history WHERE stid = '$firstuuid'"
   ]
  },
  {
   "cell_type": "code",
   "execution_count": 17,
   "metadata": {
    "collapsed": false
   },
   "outputs": [],
   "source": [
    "firsthistory = firsthistoryresult.DataFrame()"
   ]
  },
  {
   "cell_type": "code",
   "execution_count": 18,
   "metadata": {
    "collapsed": false
   },
   "outputs": [
    {
     "data": {
      "text/html": [
       "<div>\n",
       "<table border=\"1\" class=\"dataframe\">\n",
       "  <thead>\n",
       "    <tr style=\"text-align: right;\">\n",
       "      <th></th>\n",
       "      <th>id</th>\n",
       "      <th>stid</th>\n",
       "      <th>e5</th>\n",
       "      <th>e10</th>\n",
       "      <th>diesel</th>\n",
       "      <th>date</th>\n",
       "      <th>changed</th>\n",
       "    </tr>\n",
       "  </thead>\n",
       "  <tbody>\n",
       "    <tr>\n",
       "      <th>0</th>\n",
       "      <td>20321112</td>\n",
       "      <td>005056ba-7cb6-1ed2-bceb-c6e8560e6d53</td>\n",
       "      <td>1289</td>\n",
       "      <td>1269</td>\n",
       "      <td>1089</td>\n",
       "      <td>2016-10-18 14:49:31+00:00</td>\n",
       "      <td>21</td>\n",
       "    </tr>\n",
       "    <tr>\n",
       "      <th>1</th>\n",
       "      <td>20349330</td>\n",
       "      <td>005056ba-7cb6-1ed2-bceb-c6e8560e6d53</td>\n",
       "      <td>1369</td>\n",
       "      <td>1349</td>\n",
       "      <td>1169</td>\n",
       "      <td>2016-10-18 21:03:31+00:00</td>\n",
       "      <td>21</td>\n",
       "    </tr>\n",
       "    <tr>\n",
       "      <th>2</th>\n",
       "      <td>20377115</td>\n",
       "      <td>005056ba-7cb6-1ed2-bceb-c6e8560e6d53</td>\n",
       "      <td>1349</td>\n",
       "      <td>1329</td>\n",
       "      <td>1159</td>\n",
       "      <td>2016-10-19 06:37:31+00:00</td>\n",
       "      <td>21</td>\n",
       "    </tr>\n",
       "    <tr>\n",
       "      <th>3</th>\n",
       "      <td>20397701</td>\n",
       "      <td>005056ba-7cb6-1ed2-bceb-c6e8560e6d53</td>\n",
       "      <td>1329</td>\n",
       "      <td>1309</td>\n",
       "      <td>1129</td>\n",
       "      <td>2016-10-19 09:17:31+00:00</td>\n",
       "      <td>21</td>\n",
       "    </tr>\n",
       "    <tr>\n",
       "      <th>4</th>\n",
       "      <td>20414024</td>\n",
       "      <td>005056ba-7cb6-1ed2-bceb-c6e8560e6d53</td>\n",
       "      <td>1349</td>\n",
       "      <td>1329</td>\n",
       "      <td>1149</td>\n",
       "      <td>2016-10-19 10:33:31+00:00</td>\n",
       "      <td>21</td>\n",
       "    </tr>\n",
       "  </tbody>\n",
       "</table>\n",
       "</div>"
      ],
      "text/plain": [
       "         id                                  stid    e5   e10  diesel  \\\n",
       "0  20321112  005056ba-7cb6-1ed2-bceb-c6e8560e6d53  1289  1269    1089   \n",
       "1  20349330  005056ba-7cb6-1ed2-bceb-c6e8560e6d53  1369  1349    1169   \n",
       "2  20377115  005056ba-7cb6-1ed2-bceb-c6e8560e6d53  1349  1329    1159   \n",
       "3  20397701  005056ba-7cb6-1ed2-bceb-c6e8560e6d53  1329  1309    1129   \n",
       "4  20414024  005056ba-7cb6-1ed2-bceb-c6e8560e6d53  1349  1329    1149   \n",
       "\n",
       "                       date  changed  \n",
       "0 2016-10-18 14:49:31+00:00       21  \n",
       "1 2016-10-18 21:03:31+00:00       21  \n",
       "2 2016-10-19 06:37:31+00:00       21  \n",
       "3 2016-10-19 09:17:31+00:00       21  \n",
       "4 2016-10-19 10:33:31+00:00       21  "
      ]
     },
     "execution_count": 18,
     "metadata": {},
     "output_type": "execute_result"
    }
   ],
   "source": [
    "firsthistory.head()"
   ]
  },
  {
   "cell_type": "markdown",
   "metadata": {},
   "source": [
    "# First Charts"
   ]
  },
  {
   "cell_type": "code",
   "execution_count": 12,
   "metadata": {
    "collapsed": false
   },
   "outputs": [
    {
     "data": {
      "image/png": "[encoded data removed]",
      "text/plain": [
       "<matplotlib.figure.Figure at 0x7fd5ef366c90>"
      ]
     },
     "metadata": {},
     "output_type": "display_data"
    }
   ],
   "source": [
    "Plots().brands()"
   ]
  },
  {
   "cell_type": "code",
   "execution_count": 51,
   "metadata": {
    "collapsed": true
   },
   "outputs": [],
   "source": [
    "def plot_prices(stid, start=datetime.now() - timedelta(days=15), end=datetime.now(), nightstart=22, nightend=6):\n",
    "    #find information about the gas station at the database\n",
    "    station_information = %sql SELECT * FROM gas_station WHERE id = '$stid'\n",
    "    station = station_information.DataFrame()[:1]\n",
    "    \n",
    "    #find price history of that gas station\n",
    "    history_information = %sql SELECT date, diesel, e5, e10 FROM gas_station_information_history WHERE stid = '$stid'\n",
    "    history_df = history_information.DataFrame()\n",
    "    history = history_df[(history_df[\"date\"] >= start) & (history_df[\"date\"] <= end)]\n",
    "    prices = history.set_index(\"date\")\n",
    "    \n",
    "    #create the plot\n",
    "    plt.plot(prices, drawstyle=\"steps\")#, title=\"Prices at %s in %s\" % (station[\"brand\"].max(), station[\"place\"].max()))\n",
    "    ax = plt.gca()\n",
    "    #ax.set_ylabel(\"Price in 1/1000 Euros\")\n",
    "    #ax.set_xlabel(\"Date\")\n",
    "    ax.get_xaxis().set_ticks([])\n",
    "    ax.get_yaxis().set_ticks([])\n",
    "\n",
    "    #highlight nighttimes\n",
    "    mindate = history[\"date\"].min()\n",
    "    startdate = datetime(mindate.year, mindate.month, mindate.day) - timedelta(days=1)\n",
    "    maxdate = history[\"date\"].max()\n",
    "    enddate = datetime(maxdate.year, maxdate.month, maxdate.day) + timedelta(days=1)\n",
    "    while startdate < enddate:\n",
    "        ax.axvspan(startdate + timedelta(hours=nightstart), startdate + timedelta(hours=24 + nightend), facecolor=\"g\" if startdate.weekday() < 5 else \"b\", alpha=0.2)\n",
    "        startdate += timedelta(days=1)\n",
    "    ax.legend(bbox_to_anchor=(1., .95))"
   ]
  },
  {
   "cell_type": "code",
   "execution_count": 40,
   "metadata": {
    "collapsed": false
   },
   "outputs": [
    {
     "name": "stdout",
     "output_type": "stream",
     "text": [
      "1 rows affected.\n",
      "2278 rows affected.\n"
     ]
    },
    {
     "data": {
      "image/png": "[encoded data removed]",
      "text/plain": [
       "<matplotlib.figure.Figure at 0x7fd5efdc6210>"
      ]
     },
     "metadata": {},
     "output_type": "display_data"
    }
   ],
   "source": [
    "plot_prices(gasstations[:1][\"id\"].max())"
   ]
  },
  {
   "cell_type": "code",
   "execution_count": 41,
   "metadata": {
    "collapsed": false
   },
   "outputs": [
    {
     "data": {
      "text/html": [
       "<div>\n",
       "<table border=\"1\" class=\"dataframe\">\n",
       "  <thead>\n",
       "    <tr style=\"text-align: right;\">\n",
       "      <th></th>\n",
       "      <th>id</th>\n",
       "      <th>version</th>\n",
       "      <th>version_time</th>\n",
       "      <th>name</th>\n",
       "      <th>brand</th>\n",
       "      <th>street</th>\n",
       "      <th>house_number</th>\n",
       "      <th>post_code</th>\n",
       "      <th>place</th>\n",
       "      <th>public_holiday_identifier</th>\n",
       "      <th>lat</th>\n",
       "      <th>lng</th>\n",
       "      <th>updated</th>\n",
       "      <th>updated2</th>\n",
       "      <th>open_ts</th>\n",
       "    </tr>\n",
       "  </thead>\n",
       "  <tbody>\n",
       "    <tr>\n",
       "      <th>13569</th>\n",
       "      <td>f96b0d2b-c33b-4d8e-a08b-6a9e2f3c657a</td>\n",
       "      <td>10</td>\n",
       "      <td>2016-05-10 14:01:34</td>\n",
       "      <td>MUENCHEN - JOSEPHSPITALSTR. 12</td>\n",
       "      <td>Agip</td>\n",
       "      <td>Josephspitalstrasse</td>\n",
       "      <td>12</td>\n",
       "      <td>80331</td>\n",
       "      <td>Muenchen</td>\n",
       "      <td>deBY</td>\n",
       "      <td>48.136641</td>\n",
       "      <td>11.56622</td>\n",
       "      <td>2017-03-07 02:16:31+00:00</td>\n",
       "      <td>2017-03-06 22:04:31+00:00</td>\n",
       "      <td>1</td>\n",
       "    </tr>\n",
       "  </tbody>\n",
       "</table>\n",
       "</div>"
      ],
      "text/plain": [
       "                                         id version        version_time  \\\n",
       "13569  f96b0d2b-c33b-4d8e-a08b-6a9e2f3c657a     10  2016-05-10 14:01:34   \n",
       "\n",
       "                                 name brand               street house_number  \\\n",
       "13569  MUENCHEN - JOSEPHSPITALSTR. 12  Agip  Josephspitalstrasse           12   \n",
       "\n",
       "      post_code     place public_holiday_identifier        lat       lng  \\\n",
       "13569     80331  Muenchen                      deBY  48.136641  11.56622   \n",
       "\n",
       "                        updated                  updated2  open_ts  \n",
       "13569 2017-03-07 02:16:31+00:00 2017-03-06 22:04:31+00:00        1  "
      ]
     },
     "execution_count": 41,
     "metadata": {},
     "output_type": "execute_result"
    }
   ],
   "source": [
    "gasstations[gasstations[\"street\"] == \"Josephspitalstrasse\"]"
   ]
  },
  {
   "cell_type": "code",
   "execution_count": 42,
   "metadata": {
    "collapsed": false
   },
   "outputs": [
    {
     "name": "stdout",
     "output_type": "stream",
     "text": [
      "1 rows affected.\n",
      "2863 rows affected.\n"
     ]
    },
    {
     "data": {
      "image/png": "[encoded data removed]",
      "text/plain": [
       "<matplotlib.figure.Figure at 0x7fd5ef21cf90>"
      ]
     },
     "metadata": {},
     "output_type": "display_data"
    }
   ],
   "source": [
    "plot_prices(\"f96b0d2b-c33b-4d8e-a08b-6a9e2f3c657a\")"
   ]
  },
  {
   "cell_type": "code",
   "execution_count": 160,
   "metadata": {
    "collapsed": false
   },
   "outputs": [
    {
     "name": "stdout",
     "output_type": "stream",
     "text": [
      "18 rows affected.\n",
      "+--------------------------------------+\n",
      "|                  id                  |\n",
      "+--------------------------------------+\n",
      "| 005056ba-7cb6-1ed2-bceb-bace5fdb8d4b |\n",
      "| 35529319-e19c-41ef-83da-d9dcdfb02704 |\n",
      "| 3873fea4-66bb-43a2-9d0b-2531308f4703 |\n",
      "| 3b23d717-cdf5-4995-85d8-a1081aa52161 |\n",
      "| 3b4e3503-21ac-4cd2-8afb-84ea5524cea6 |\n",
      "| 4139c25a-371d-41e7-a349-de9ad74afcb8 |\n",
      "| 543fa7b5-0da0-46b6-97ca-3d89aec6dde9 |\n",
      "| 65668300-e216-46cc-97d6-e9774bdacb47 |\n",
      "| 6bfa04d1-b1c5-468b-b465-4e7bdee41a39 |\n",
      "| 9559f98f-f9e8-4fdb-9d24-c00ab6ccedfb |\n",
      "| b1716fee-19fd-49d6-b4d4-906ce3a86985 |\n",
      "| b8d5e3c5-a56a-4f97-9967-a6e571356631 |\n",
      "| e25b5826-cd98-4004-8bca-0e9e352ef9a3 |\n",
      "| eab538d2-4a3c-44ea-883a-01ca9f65c0e6 |\n",
      "| f2868f6a-779a-4dec-abaf-9420bacd083b |\n",
      "| fe86cfd6-36fc-4ac6-8bc6-ae69ba7ff09a |\n",
      "| ceccdeb8-bcbd-4e8d-9398-f0cf7eb936c3 |\n",
      "| ec28a179-b87c-457a-bc57-e83dbbb72bc0 |\n",
      "+--------------------------------------+\n"
     ]
    },
    {
     "data": {
      "text/plain": [
       "[\"'005056ba-7cb6-1ed2-bceb-bace5fdb8d4b'\",\n",
       " \"'35529319-e19c-41ef-83da-d9dcdfb02704'\",\n",
       " \"'3873fea4-66bb-43a2-9d0b-2531308f4703'\",\n",
       " \"'3b23d717-cdf5-4995-85d8-a1081aa52161'\",\n",
       " \"'3b4e3503-21ac-4cd2-8afb-84ea5524cea6'\",\n",
       " \"'4139c25a-371d-41e7-a349-de9ad74afcb8'\",\n",
       " \"'543fa7b5-0da0-46b6-97ca-3d89aec6dde9'\",\n",
       " \"'65668300-e216-46cc-97d6-e9774bdacb47'\",\n",
       " \"'6bfa04d1-b1c5-468b-b465-4e7bdee41a39'\",\n",
       " \"'9559f98f-f9e8-4fdb-9d24-c00ab6ccedfb'\",\n",
       " \"'b1716fee-19fd-49d6-b4d4-906ce3a86985'\",\n",
       " \"'b8d5e3c5-a56a-4f97-9967-a6e571356631'\",\n",
       " \"'e25b5826-cd98-4004-8bca-0e9e352ef9a3'\",\n",
       " \"'eab538d2-4a3c-44ea-883a-01ca9f65c0e6'\",\n",
       " \"'f2868f6a-779a-4dec-abaf-9420bacd083b'\",\n",
       " \"'fe86cfd6-36fc-4ac6-8bc6-ae69ba7ff09a'\",\n",
       " \"'ceccdeb8-bcbd-4e8d-9398-f0cf7eb936c3'\",\n",
       " \"'ec28a179-b87c-457a-bc57-e83dbbb72bc0'\"]"
      ]
     },
     "execution_count": 160,
     "metadata": {},
     "output_type": "execute_result"
    }
   ],
   "source": [
    "def find_stids_by_city(city):\n",
    "    \"\"\"Find a list of gas station ids in the given city from database\"\"\"\n",
    "    station_information = %sql SELECT id FROM gas_station WHERE place = '$city'\n",
    "    print station_information\n",
    "    stations = station_information.DataFrame()\n",
    "    return map(lambda id: \"'%s'\" % str(id), stations[\"id\"])\n",
    "find_stids_by_city(\"Kassel\")"
   ]
  },
  {
   "cell_type": "code",
   "execution_count": 43,
   "metadata": {
    "collapsed": false
   },
   "outputs": [
    {
     "name": "stdout",
     "output_type": "stream",
     "text": [
      "18 rows affected.\n",
      "1068 rows affected.\n"
     ]
    },
    {
     "data": {
      "image/png": "[encoded data removed]",
      "text/plain": [
       "<matplotlib.figure.Figure at 0x7fd5efa14cd0>"
      ]
     },
     "metadata": {},
     "output_type": "display_data"
    }
   ],
   "source": [
    "def plot_city(city, start=datetime.now() - timedelta(days=15), end=datetime.now(), title=\"Title\", nightstart=22, nightend=6):\n",
    "    #find information about the gas stations at the database\n",
    "    station_information = %sql SELECT * FROM gas_station WHERE place = '$city'\n",
    "    stations = station_information.DataFrame()\n",
    "    id_string = \", \".join(map(lambda id: \"'%s'\" % str(id), stations[\"id\"]))\n",
    "    \n",
    "    #find price history of that gas stations\n",
    "    history_information = %sql SELECT stid, date, diesel, e5, e10 FROM gas_station_information_history WHERE stid IN ($id_string) AND TIMESTAMP '$start' <= date AND date <= TIMESTAMP '$end' ORDER BY date ASC\n",
    "    history_df = history_information.DataFrame()\n",
    "    history = history_df[(history_df[\"date\"] >= start) & (history_df[\"date\"] <= end)]#.set_index(\"stid\", \"date\")\n",
    "    \n",
    "    #fix me: initial values\n",
    "    current_prices = pd.DataFrame(\n",
    "        [{\"stid\": stid, \"diesel\": .0, \"e5\": .0, \"e10\": .0} for stid in stations[\"id\"]]\n",
    "    ).set_index(\"stid\")\n",
    "\n",
    "    #save mean prices\n",
    "    mean_prices = pd.DataFrame({\n",
    "        \"date\": pd.Series(dtype=\"datetime64[ns]\"),\n",
    "        \"diesel\": pd.Series(dtype=\"float64\"),\n",
    "        \"e5\": pd.Series(dtype=\"float64\"),\n",
    "        \"e10\": pd.Series(dtype=\"float64\")\n",
    "    }).set_index(\"date\")\n",
    "\n",
    "    #read price changes\n",
    "    for idx, change in history.iterrows():\n",
    "        for fuel_type in [\"diesel\", \"e5\", \"e10\"]:\n",
    "            current_prices.loc[change[\"stid\"]][fuel_type] = change[fuel_type]\n",
    "            mean_prices.loc[change[\"date\"]] = current_prices.mean().set_value(\"date\", change[\"date\"])\n",
    "\n",
    "    #create the plot\n",
    "    ax = mean_prices.plot(drawstyle=\"steps\", title=title)\n",
    "    ax.set_ylabel(\"Price in 1/1000 Euros\")\n",
    "    ax.set_xlabel(\"Date\")\n",
    "\n",
    "    #highlight nighttimes\n",
    "    mindate = history[\"date\"].min()\n",
    "    startdate = datetime(mindate.year, mindate.month, mindate.day) - timedelta(days=1)\n",
    "    maxdate = history[\"date\"].max()\n",
    "    enddate = datetime(maxdate.year, maxdate.month, maxdate.day) + timedelta(days=1)\n",
    "    while startdate < enddate:\n",
    "        ax.axvspan(startdate + timedelta(hours=nightstart), startdate + timedelta(hours=24 + nightend), facecolor=\"g\" if startdate.weekday() < 5 else \"b\", alpha=0.2)\n",
    "        startdate += timedelta(days=1)\n",
    "    ax.legend(bbox_to_anchor=(1., .95))\n",
    "    \n",
    "plot_city(\"Kassel\", title=\"Gas Prices in Kassel\")"
   ]
  },
  {
   "cell_type": "code",
   "execution_count": 159,
   "metadata": {
    "collapsed": true
   },
   "outputs": [],
   "source": [
    "?find_stids_by_city"
   ]
  },
  {
   "cell_type": "code",
   "execution_count": 23,
   "metadata": {
    "collapsed": false
   },
   "outputs": [],
   "source": [
    "from database import Database\n",
    "db = Database()"
   ]
  },
  {
   "cell_type": "code",
   "execution_count": 24,
   "metadata": {
    "collapsed": false
   },
   "outputs": [],
   "source": [
    "stids=db.find_stations(place=\"Kassel\")[\"id\"].tolist()"
   ]
  },
  {
   "cell_type": "code",
   "execution_count": 25,
   "metadata": {
    "collapsed": false
   },
   "outputs": [
    {
     "data": {
      "text/plain": [
       "['005056ba-7cb6-1ed2-bceb-bace5fdb8d4b',\n",
       " '35529319-e19c-41ef-83da-d9dcdfb02704',\n",
       " '3873fea4-66bb-43a2-9d0b-2531308f4703',\n",
       " '3b23d717-cdf5-4995-85d8-a1081aa52161',\n",
       " '3b4e3503-21ac-4cd2-8afb-84ea5524cea6',\n",
       " '4139c25a-371d-41e7-a349-de9ad74afcb8',\n",
       " '543fa7b5-0da0-46b6-97ca-3d89aec6dde9',\n",
       " '65668300-e216-46cc-97d6-e9774bdacb47',\n",
       " '6bfa04d1-b1c5-468b-b465-4e7bdee41a39',\n",
       " '9559f98f-f9e8-4fdb-9d24-c00ab6ccedfb',\n",
       " 'b1716fee-19fd-49d6-b4d4-906ce3a86985',\n",
       " 'b8d5e3c5-a56a-4f97-9967-a6e571356631',\n",
       " 'e25b5826-cd98-4004-8bca-0e9e352ef9a3',\n",
       " 'eab538d2-4a3c-44ea-883a-01ca9f65c0e6',\n",
       " 'f2868f6a-779a-4dec-abaf-9420bacd083b',\n",
       " 'fe86cfd6-36fc-4ac6-8bc6-ae69ba7ff09a',\n",
       " 'ceccdeb8-bcbd-4e8d-9398-f0cf7eb936c3',\n",
       " 'ec28a179-b87c-457a-bc57-e83dbbb72bc0']"
      ]
     },
     "execution_count": 25,
     "metadata": {},
     "output_type": "execute_result"
    }
   ],
   "source": [
    "stids"
   ]
  },
  {
   "cell_type": "code",
   "execution_count": 26,
   "metadata": {
    "collapsed": true
   },
   "outputs": [],
   "source": [
    "history = db.find_prices(stids=stids)"
   ]
  },
  {
   "cell_type": "code",
   "execution_count": 53,
   "metadata": {
    "collapsed": false
   },
   "outputs": [
    {
     "name": "stdout",
     "output_type": "stream",
     "text": [
      "1 rows affected.\n",
      "2469 rows affected.\n",
      "1 rows affected.\n",
      "2477 rows affected.\n",
      "1 rows affected.\n",
      "2436 rows affected.\n",
      "1 rows affected.\n",
      "2969 rows affected.\n",
      "1 rows affected.\n",
      "3279 rows affected.\n",
      "1 rows affected.\n",
      "2932 rows affected.\n",
      "1 rows affected.\n",
      "3344 rows affected.\n",
      "1 rows affected.\n",
      "3149 rows affected.\n",
      "1 rows affected.\n",
      "1127 rows affected.\n",
      "1 rows affected.\n",
      "2470 rows affected.\n",
      "1 rows affected.\n",
      "2303 rows affected.\n",
      "1 rows affected.\n",
      "2972 rows affected.\n",
      "1 rows affected.\n",
      "3698 rows affected.\n",
      "1 rows affected.\n",
      "2949 rows affected.\n",
      "1 rows affected.\n",
      "1961 rows affected.\n",
      "1 rows affected.\n",
      "2561 rows affected.\n",
      "1 rows affected.\n",
      "3009 rows affected.\n",
      "1 rows affected.\n",
      "2371 rows affected.\n"
     ]
    },
    {
     "data": {
      "image/png": "[encoded data removed]",
      "text/plain": [
       "<matplotlib.figure.Figure at 0x7fd5ea4aefd0>"
      ]
     },
     "metadata": {},
     "output_type": "display_data"
    }
   ],
   "source": [
    "for i, stid in enumerate(stids):\n",
    "    plt.subplot(4, 5, i+1)\n",
    "    plot_prices(stid)"
   ]
  },
  {
   "cell_type": "code",
   "execution_count": 54,
   "metadata": {
    "collapsed": false
   },
   "outputs": [
    {
     "name": "stdout",
     "output_type": "stream",
     "text": [
      "1 rows affected.\n"
     ]
    },
    {
     "data": {
      "text/html": [
       "<table>\n",
       "    <tr>\n",
       "        <th>max</th>\n",
       "    </tr>\n",
       "    <tr>\n",
       "        <td>2017-03-07 02:15:31+00:00</td>\n",
       "    </tr>\n",
       "</table>"
      ],
      "text/plain": [
       "[(datetime.datetime(2017, 3, 7, 2, 15, 31, tzinfo=psycopg2.tz.FixedOffsetTimezone(offset=0, name=None)),)]"
      ]
     },
     "execution_count": 54,
     "metadata": {},
     "output_type": "execute_result"
    }
   ],
   "source": [
    "%sql SELECT MAX(date) FROM gas_station_information_history"
   ]
  },
  {
   "cell_type": "code",
   "execution_count": 55,
   "metadata": {
    "collapsed": false
   },
   "outputs": [
    {
     "name": "stdout",
     "output_type": "stream",
     "text": [
      "1 rows affected.\n"
     ]
    },
    {
     "data": {
      "text/html": [
       "<table>\n",
       "    <tr>\n",
       "        <th>count</th>\n",
       "    </tr>\n",
       "    <tr>\n",
       "        <td>262</td>\n",
       "    </tr>\n",
       "</table>"
      ],
      "text/plain": [
       "[(262L,)]"
      ]
     },
     "execution_count": 55,
     "metadata": {},
     "output_type": "execute_result"
    }
   ],
   "source": [
    "%sql SELECT COUNT(*) FROM gas_station_information_history WHERE date >= date '2017-03-07'"
   ]
  },
  {
   "cell_type": "code",
   "execution_count": 74,
   "metadata": {
    "collapsed": false
   },
   "outputs": [
    {
     "name": "stdout",
     "output_type": "stream",
     "text": [
      "7 rows affected.\n"
     ]
    },
    {
     "data": {
      "text/html": [
       "<div>\n",
       "<table border=\"1\" class=\"dataframe\">\n",
       "  <thead>\n",
       "    <tr style=\"text-align: right;\">\n",
       "      <th></th>\n",
       "      <th>avg</th>\n",
       "      <th>dow</th>\n",
       "    </tr>\n",
       "  </thead>\n",
       "  <tbody>\n",
       "    <tr>\n",
       "      <th>0</th>\n",
       "      <td>1149.4437490796642615</td>\n",
       "      <td>0.0</td>\n",
       "    </tr>\n",
       "    <tr>\n",
       "      <th>1</th>\n",
       "      <td>1124.6199593239357599</td>\n",
       "      <td>1.0</td>\n",
       "    </tr>\n",
       "    <tr>\n",
       "      <th>2</th>\n",
       "      <td>1142.3775328830430146</td>\n",
       "      <td>2.0</td>\n",
       "    </tr>\n",
       "    <tr>\n",
       "      <th>3</th>\n",
       "      <td>1135.5460344460982352</td>\n",
       "      <td>3.0</td>\n",
       "    </tr>\n",
       "    <tr>\n",
       "      <th>4</th>\n",
       "      <td>1135.7411138701667258</td>\n",
       "      <td>4.0</td>\n",
       "    </tr>\n",
       "    <tr>\n",
       "      <th>5</th>\n",
       "      <td>1139.0099865429563000</td>\n",
       "      <td>5.0</td>\n",
       "    </tr>\n",
       "    <tr>\n",
       "      <th>6</th>\n",
       "      <td>1140.5472132326501259</td>\n",
       "      <td>6.0</td>\n",
       "    </tr>\n",
       "  </tbody>\n",
       "</table>\n",
       "</div>"
      ],
      "text/plain": [
       "                     avg  dow\n",
       "0  1149.4437490796642615  0.0\n",
       "1  1124.6199593239357599  1.0\n",
       "2  1142.3775328830430146  2.0\n",
       "3  1135.5460344460982352  3.0\n",
       "4  1135.7411138701667258  4.0\n",
       "5  1139.0099865429563000  5.0\n",
       "6  1140.5472132326501259  6.0"
      ]
     },
     "execution_count": 74,
     "metadata": {},
     "output_type": "execute_result"
    }
   ],
   "source": [
    "res = %sql SELECT AVG(s.price), s.dow FROM (SELECT MIN(diesel) AS price, stid, EXTRACT(DOW FROM date) AS dow FROM gas_station_information_history WHERE date >= date '2017-02-27' AND date < date '2017-03-07' GROUP BY stid, EXTRACT(DOW FROM date)) AS s GROUP BY s.dow ORDER BY dow ASC\n",
    "dow = res.DataFrame()\n",
    "dow"
   ]
  },
  {
   "cell_type": "code",
   "execution_count": 82,
   "metadata": {
    "collapsed": false
   },
   "outputs": [
    {
     "data": {
      "text/plain": [
       "<matplotlib.text.Text at 0x7fd5e9664490>"
      ]
     },
     "execution_count": 82,
     "metadata": {},
     "output_type": "execute_result"
    },
    {
     "data": {
      "image/png": "[encoded data removed]",
      "text/plain": [
       "<matplotlib.figure.Figure at 0x7fd5e9f69e90>"
      ]
     },
     "metadata": {},
     "output_type": "display_data"
    }
   ],
   "source": [
    "plt.plot(dow[\"avg\"])\n",
    "plt.gca().set_xticklabels([\"\", \"Sun\", \"Mon\", \"Tue\", \"Wed\", \"Thu\", \"Fri\", \"Sat\"])\n",
    "plt.title(\"Minimum Diesel Prices\")"
   ]
  },
  {
   "cell_type": "code",
   "execution_count": null,
   "metadata": {
    "collapsed": true
   },
   "outputs": [],
   "source": []
  }
 ],
 "metadata": {
  "kernelspec": {
   "display_name": "Python 2",
   "language": "python",
   "name": "python2"
  },
  "language_info": {
   "codemirror_mode": {
    "name": "ipython",
    "version": 2
   },
   "file_extension": ".py",
   "mimetype": "text/x-python",
   "name": "python",
   "nbconvert_exporter": "python",
   "pygments_lexer": "ipython2",
   "version": "2.7.13"
  }
 },
 "nbformat": 4,
 "nbformat_minor": 2
}
